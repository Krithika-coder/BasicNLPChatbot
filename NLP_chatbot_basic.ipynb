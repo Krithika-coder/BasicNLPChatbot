{
  "nbformat": 4,
  "nbformat_minor": 0,
  "metadata": {
    "colab": {
      "provenance": []
    },
    "kernelspec": {
      "name": "python3",
      "display_name": "Python 3"
    },
    "language_info": {
      "name": "python"
    }
  },
  "cells": [
    {
      "cell_type": "code",
      "execution_count": null,
      "metadata": {
        "colab": {
          "base_uri": "https://localhost:8080/"
        },
        "id": "3yV60-_L4FpR",
        "outputId": "052aa765-d637-4451-9b5b-890ab89090b6"
      },
      "outputs": [
        {
          "output_type": "stream",
          "name": "stderr",
          "text": [
            "[nltk_data] Downloading package punkt to /root/nltk_data...\n",
            "[nltk_data]   Package punkt is already up-to-date!\n"
          ]
        },
        {
          "output_type": "stream",
          "name": "stdout",
          "text": [
            "Welcome to the Chatbot. Type 'bye' to exit.\n",
            "You: hello\n",
            "Chatbot: Hello! How can I help you today?\n",
            "You: hi\n",
            "Chatbot: Hello! How can I help you today?\n",
            "You: hey\n",
            "Chatbot: Hello! How can I help you today?\n",
            "You: my name is krithika\n",
            "Chatbot: Hi krithika, nice to meet you!\n",
            "You: what is your name?\n",
            "Chatbot: I am a chatbot. You can call me Helpot.\n",
            "You: bye\n",
            "Chatbot: Goodbye!\n"
          ]
        }
      ],
      "source": [
        "import nltk\n",
        "from nltk.chat.util import Chat, reflections\n",
        "\n",
        "# Download NLTK data if not already downloaded\n",
        "nltk.download('punkt')\n",
        "\n",
        "# Define custom patterns and responses\n",
        "patterns = [\n",
        "    (r'hi|hello|hey', ['Hello! How can I help you today? ']),\n",
        "    (r'I have a query|I have a doubt| I have a clarification|I have a problem|Help', ['Select your query type from the list']),\n",
        "    (r'bye|goodbye', ['Goodbye! Have a great day!']),\n",
        "    (r'my name is (.*)', ['Hi %1, nice to meet you!']),\n",
        "    (r'what is your name', ['I am a chatbot. You can call me Helpot.']),\n",
        "    # Add more patterns as needed\n",
        "]\n",
        "\n",
        "# Create the chatbot\n",
        "chatbot = Chat(patterns, reflections)\n",
        "\n",
        "# Define a function to interact with the chatbot\n",
        "def chat_with_bot():\n",
        "    print(\"Welcome to the Chatbot. Type 'bye' to exit.\")\n",
        "    while True:\n",
        "        user_input = input(\"You: \")\n",
        "        if user_input.lower() == 'bye':\n",
        "            print(\"Chatbot: Goodbye!\")\n",
        "            break\n",
        "        else:\n",
        "            response = chatbot.respond(user_input)\n",
        "            print(\"Chatbot:\", response)\n",
        "\n",
        "# Start the conversation\n",
        "chat_with_bot()\n"
      ]
    },
    {
      "cell_type": "code",
      "source": [
        "import nltk\n",
        "from nltk.chat.util import Chat, reflections\n",
        "\n",
        "# Download NLTK data if not already downloaded\n",
        "nltk.download('punkt')\n",
        "\n",
        "\n",
        "patterns = [\n",
        "    (r'hi|hello|hey', ['Hello! How can I help you today?']),\n",
        "    (r'I have a query|I have a doubt|I have a clarification|I have a problem|Help', ['Select your query type']),\n",
        "    (r'(show me|display|list) (topics|options)', ['Sure! Here are some topics you can choose from: bill related issue, insurance, transaction details, others']),\n",
        "    (r'(bill related issue|insurance|transaction details|others)', ['Great choice! I can help you with topics related to %1.', 'Sure! %1 is an interesting topic. How can I assist you further?']),\n",
        "    (r'bye|goodbye', ['Goodbye! Have a great day!']),\n",
        "    (r'my name is (.*)', ['Hi %1, nice to meet you!']),\n",
        "    (r'what is your name', ['I am a chatbot. You can call me Helpot.']),\n",
        "\n",
        "]\n",
        "\n",
        "# Create the chatbot\n",
        "chatbot = Chat(patterns, reflections)\n",
        "\n",
        "# Define a function to interact with the chatbot\n",
        "def chat_with_bot():\n",
        "    print(\"Welcome to the Chatbot. Type 'bye' to exit.\")\n",
        "    while True:\n",
        "        user_input = input(\"You: \")\n",
        "        if user_input.lower() == 'bye':\n",
        "            print(\"Chatbot: Goodbye!\")\n",
        "            break\n",
        "        else:\n",
        "            response = chatbot.respond(user_input)\n",
        "            print(\"Chatbot:\", response)\n",
        "\n",
        "# Start the conversation\n",
        "chat_with_bot()\n"
      ],
      "metadata": {
        "colab": {
          "base_uri": "https://localhost:8080/"
        },
        "id": "LEIq2ZQmjlP1",
        "outputId": "8855734e-1f1a-4663-cb98-a210ae8ef85c"
      },
      "execution_count": 11,
      "outputs": [
        {
          "output_type": "stream",
          "name": "stderr",
          "text": [
            "[nltk_data] Downloading package punkt to /root/nltk_data...\n",
            "[nltk_data]   Package punkt is already up-to-date!\n"
          ]
        },
        {
          "output_type": "stream",
          "name": "stdout",
          "text": [
            "Welcome to the Chatbot. Type 'bye' to exit.\n",
            "You: hi\n",
            "Chatbot: Hello! How can I help you today?\n",
            "You: my name is krithika\n",
            "Chatbot: Hi krithika, nice to meet you!\n",
            "You: i have a doubt\n",
            "Chatbot: Select your query type from the list\n",
            "You: others\n",
            "Chatbot: Sure! others is an interesting topic. How can I assist you further?\n",
            "You: my app is not working\n",
            "Chatbot: None\n",
            "You: bye\n",
            "Chatbot: Goodbye!\n"
          ]
        }
      ]
    }
  ]
}